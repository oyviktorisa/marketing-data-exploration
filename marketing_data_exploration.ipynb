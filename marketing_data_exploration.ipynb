{
 "cells": [
  {
   "cell_type": "code",
   "execution_count": 2,
   "id": "39923a20",
   "metadata": {},
   "outputs": [],
   "source": [
    "import pandas as pd\n",
    "\n",
    "df = pd.read_csv('ifood_df.csv')"
   ]
  },
  {
   "cell_type": "code",
   "execution_count": 3,
   "id": "a5adbe11",
   "metadata": {},
   "outputs": [
    {
     "data": {
      "text/plain": [
       "Index(['Income', 'Kidhome', 'Teenhome', 'Recency', 'MntWines', 'MntFruits',\n",
       "       'MntMeatProducts', 'MntFishProducts', 'MntSweetProducts',\n",
       "       'MntGoldProds', 'NumDealsPurchases', 'NumWebPurchases',\n",
       "       'NumCatalogPurchases', 'NumStorePurchases', 'NumWebVisitsMonth',\n",
       "       'AcceptedCmp3', 'AcceptedCmp4', 'AcceptedCmp5', 'AcceptedCmp1',\n",
       "       'AcceptedCmp2', 'Complain', 'Z_CostContact', 'Z_Revenue', 'Response',\n",
       "       'Age', 'Customer_Days', 'marital_Divorced', 'marital_Married',\n",
       "       'marital_Single', 'marital_Together', 'marital_Widow',\n",
       "       'education_2n Cycle', 'education_Basic', 'education_Graduation',\n",
       "       'education_Master', 'education_PhD', 'MntTotal', 'MntRegularProds',\n",
       "       'AcceptedCmpOverall'],\n",
       "      dtype='object')"
      ]
     },
     "execution_count": 3,
     "metadata": {},
     "output_type": "execute_result"
    }
   ],
   "source": [
    "df.shape\n",
    "df.columns"
   ]
  },
  {
   "cell_type": "code",
   "execution_count": 3,
   "id": "092e5068",
   "metadata": {},
   "outputs": [
    {
     "data": {
      "text/plain": [
       "(2201, 39)"
      ]
     },
     "execution_count": 3,
     "metadata": {},
     "output_type": "execute_result"
    }
   ],
   "source": [
    "df = df.loc[(df['NumWebPurchases']>0) | (df['NumStorePurchases']>0) | (df['NumCatalogPurchases']>0)]\n",
    "df = df.loc[(df['marital_Divorced']==1) | (df['marital_Married']==1) | (df['marital_Single']==1) | (df['marital_Together']==1) | (df['marital_Widow']==1)]\n",
    "df = df.loc[(df['education_2n Cycle']==1) | (df['education_Basic']==1) | (df['education_Graduation']==1) | (df['education_Master']==1) | (df['education_PhD']==1)]\n",
    "df.shape"
   ]
  },
  {
   "cell_type": "code",
   "execution_count": 4,
   "id": "96d19828",
   "metadata": {},
   "outputs": [
    {
     "data": {
      "text/plain": [
       "Store      1746\n",
       "Web         323\n",
       "Catalog     132\n",
       "Name: PurchaseMethod, dtype: int64"
      ]
     },
     "execution_count": 4,
     "metadata": {},
     "output_type": "execute_result"
    }
   ],
   "source": [
    "df['PurchaseMethod'] = 'Store'\n",
    "df.loc[(df['NumWebPurchases']>df['NumStorePurchases']) & (df['NumWebPurchases']>df['NumCatalogPurchases']),'PurchaseMethod'] = 'Web'\n",
    "df.loc[(df['NumCatalogPurchases']>df['NumStorePurchases']) & (df['NumCatalogPurchases']>df['NumWebPurchases']),'PurchaseMethod'] = 'Catalog'\n",
    "df['PurchaseMethod'].value_counts()"
   ]
  },
  {
   "cell_type": "code",
   "execution_count": 5,
   "id": "e1172062",
   "metadata": {},
   "outputs": [
    {
     "data": {
      "text/plain": [
       "0    1743\n",
       "1     458\n",
       "Name: AcceptCmp, dtype: int64"
      ]
     },
     "execution_count": 5,
     "metadata": {},
     "output_type": "execute_result"
    }
   ],
   "source": [
    "df['AcceptCmp'] = 0\n",
    "df.loc[df['AcceptedCmpOverall']>0,'AcceptCmp'] = 1\n",
    "df['AcceptCmp'].value_counts()"
   ]
  },
  {
   "cell_type": "code",
   "execution_count": 6,
   "id": "d28139b7",
   "metadata": {},
   "outputs": [
    {
     "data": {
      "text/plain": [
       "Married     853\n",
       "Together    568\n",
       "Single      476\n",
       "Divorced    228\n",
       "Widow        76\n",
       "Name: MaritalStatus, dtype: int64"
      ]
     },
     "execution_count": 6,
     "metadata": {},
     "output_type": "execute_result"
    }
   ],
   "source": [
    "df['MaritalStatus'] = 'Single'\n",
    "df.loc[df['marital_Divorced']==1,'MaritalStatus'] = 'Divorced'\n",
    "df.loc[df['marital_Married']==1,'MaritalStatus'] = 'Married'\n",
    "df.loc[df['marital_Together']==1,'MaritalStatus'] = 'Together'\n",
    "df.loc[df['marital_Widow']==1,'MaritalStatus'] = 'Widow'\n",
    "df['MaritalStatus'].value_counts()"
   ]
  },
  {
   "cell_type": "code",
   "execution_count": 7,
   "id": "6526c565",
   "metadata": {},
   "outputs": [
    {
     "data": {
      "text/plain": [
       "Graduation    1110\n",
       "PhD            475\n",
       "Master         364\n",
       "2ndCycle       198\n",
       "Basic           54\n",
       "Name: EducationLvl, dtype: int64"
      ]
     },
     "execution_count": 7,
     "metadata": {},
     "output_type": "execute_result"
    }
   ],
   "source": [
    "df['EducationLvl'] = '2ndCycle'\n",
    "df.loc[df['education_Basic']==1,'EducationLvl'] = 'Basic'\n",
    "df.loc[df['education_Graduation']==1,'EducationLvl'] = 'Graduation'\n",
    "df.loc[df['education_Master']==1,'EducationLvl'] = 'Master'\n",
    "df.loc[df['education_PhD']==1,'EducationLvl'] = 'PhD'\n",
    "df['EducationLvl'].value_counts()"
   ]
  },
  {
   "cell_type": "code",
   "execution_count": 8,
   "id": "b94b7554",
   "metadata": {},
   "outputs": [
    {
     "data": {
      "text/plain": [
       "45-54    673\n",
       "35-44    498\n",
       "55-64    483\n",
       "65-74    337\n",
       "25-34    185\n",
       "75-84     23\n",
       "19-24      2\n",
       "Name: AgeGroup, dtype: int64"
      ]
     },
     "execution_count": 8,
     "metadata": {},
     "output_type": "execute_result"
    }
   ],
   "source": [
    "df['AgeGroup'] = '75-84'\n",
    "df.loc[df['Age']<75,'AgeGroup'] = '65-74'\n",
    "df.loc[df['Age']<65,'AgeGroup'] = '55-64'\n",
    "df.loc[df['Age']<55,'AgeGroup'] = '45-54'\n",
    "df.loc[df['Age']<45,'AgeGroup'] = '35-44'\n",
    "df.loc[df['Age']<35,'AgeGroup'] = '25-34'\n",
    "df.loc[df['Age']<25,'AgeGroup'] = '19-24'\n",
    "df['AgeGroup'].value_counts()"
   ]
  },
  {
   "cell_type": "code",
   "execution_count": 10,
   "id": "e4e6a247",
   "metadata": {},
   "outputs": [],
   "source": [
    "df.drop(columns=['marital_Divorced', 'marital_Married',\n",
    "       'marital_Single', 'marital_Together', 'marital_Widow',\n",
    "       'education_2n Cycle', 'education_Basic', 'education_Graduation',\n",
    "       'education_Master', 'education_PhD'])\n",
    "df.to_csv('ifood_processed.csv')"
   ]
  },
  {
   "cell_type": "code",
   "execution_count": 37,
   "id": "35a0bb41",
   "metadata": {},
   "outputs": [
    {
     "data": {
      "text/plain": [
       "array([[<Axes: ylabel='Catalog'>, <Axes: ylabel='Store'>,\n",
       "        <Axes: ylabel='Web'>],\n",
       "       [<Axes: >, <Axes: >, <Axes: >],\n",
       "       [<Axes: >, <Axes: >, <Axes: >]], dtype=object)"
      ]
     },
     "execution_count": 37,
     "metadata": {},
     "output_type": "execute_result"
    },
    {
     "data": {
      "image/png": "[encoded data removed]",
      "text/plain": [
       "<Figure size 800x800 with 9 Axes>"
      ]
     },
     "metadata": {},
     "output_type": "display_data"
    }
   ],
   "source": [
    "df.groupby('AcceptedCmpOverall').PurchaseMethod.value_counts().unstack().plot.pie(subplots=True,figsize=(8, 8),layout=(3,3))"
   ]
  },
  {
   "cell_type": "code",
   "execution_count": 38,
   "id": "d7ac49d8",
   "metadata": {
    "scrolled": true
   },
   "outputs": [
    {
     "data": {
      "text/plain": [
       "count      2201.000000\n",
       "mean      51709.497047\n",
       "std       20629.970481\n",
       "min        2447.000000\n",
       "25%       35322.000000\n",
       "50%       51369.000000\n",
       "75%       68316.000000\n",
       "max      113734.000000\n",
       "Name: Income, dtype: float64"
      ]
     },
     "execution_count": 38,
     "metadata": {},
     "output_type": "execute_result"
    }
   ],
   "source": [
    "df['Income'].describe()"
   ]
  },
  {
   "cell_type": "code",
   "execution_count": null,
   "id": "5022dcd2",
   "metadata": {},
   "outputs": [],
   "source": []
  }
 ],
 "metadata": {
  "kernelspec": {
   "display_name": "Python 3 (ipykernel)",
   "language": "python",
   "name": "python3"
  },
  "language_info": {
   "codemirror_mode": {
    "name": "ipython",
    "version": 3
   },
   "file_extension": ".py",
   "mimetype": "text/x-python",
   "name": "python",
   "nbconvert_exporter": "python",
   "pygments_lexer": "ipython3",
   "version": "3.11.0"
  }
 },
 "nbformat": 4,
 "nbformat_minor": 5
}
